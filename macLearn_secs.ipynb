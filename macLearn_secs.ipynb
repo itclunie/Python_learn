{
 "cells": [
  {
   "cell_type": "code",
   "execution_count": null,
   "metadata": {
    "collapsed": true
   },
   "outputs": [],
   "source": [
    "import csv, sys, os\n",
    "import numpy as np\n",
    "import pandas as pd\n",
    "import matplotlib.pyplot as plt\n",
    "from sklearn import model_selection\n",
    "from sklearn.metrics import accuracy_score\n",
    "from sklearn import model_selection\n",
    "#from sklearn.ensemble import RandomForestClassifier as RFC\n",
    "from sklearn.linear_model import LogisticRegression\n",
    "from sklearn.tree import DecisionTreeClassifier\n",
    "from sklearn.neighbors import KNeighborsClassifier\n",
    "from sklearn.discriminant_analysis import LinearDiscriminantAnalysis\n",
    "from sklearn.naive_bayes import GaussianNB\n",
    "#from sklearn.svm import SVC\n",
    "\n",
    "def csv2lst(csv_Path):\n",
    "    with open(csv_Path, 'r') as output:\n",
    "        reader = csv.reader(output, lineterminator = '\\n')\n",
    "        lst = list(reader)\n",
    "    return lst"
   ]
  },
  {
   "cell_type": "code",
   "execution_count": null,
   "metadata": {
    "collapsed": true
   },
   "outputs": [],
   "source": [
    "# Load dfs\n",
    "colHeads = ['indx','avg_down_month','avg_drawdown','avg_drawdown_days','avg_up_month','best_day','best_month','cagr','calmar','daily_kurt','daily_mean','daily_sharpe','daily_skew','daily_sortino','daily_vol','max_drawdown','monthly_kurt','monthly_mean','monthly_sharpe','monthly_skew','monthly_sortino','monthly_vol','mtd','six_month','three_month','ticker_id','total_return','worst_day','worst_month','YTD','nextYTD','40p_increase']\n",
    "print(len(colHeads))\n",
    "\n",
    "df_Trn = pd.read_csv('secs - train.csv', names=colHeads)\n",
    "df_Tst = pd.read_csv('secs - test.csv', names=colHeads)\n",
    "testDataLst = csv2lst('secs - test.csv')\n",
    "\n",
    "dfTrnIndx = pd.factorize(df_Trn['indx'])\n",
    "dfTstIndx = pd.factorize(df_Tst['indx'])"
   ]
  },
  {
   "cell_type": "code",
   "execution_count": null,
   "metadata": {
    "collapsed": true
   },
   "outputs": [],
   "source": [
    "models = []\n",
    "models.append(['LR', LogisticRegression(), [] ])\n",
    "models.append(['LDA', LinearDiscriminantAnalysis(), [] ])\n",
    "models.append(['KNN', KNeighborsClassifier(), [] ])\n",
    "models.append(['CART', DecisionTreeClassifier(), [] ])\n",
    "models.append(['NB', GaussianNB(), [] ])\n",
    "#models.append(['SVM', SVC(), [] ])\n",
    "#models.append(['RFC', RFC(n_jobs=2,n_estimators=50), [] ])"
   ]
  },
  {
   "cell_type": "code",
   "execution_count": null,
   "metadata": {
    "collapsed": true
   },
   "outputs": [],
   "source": [
    "arrayTrn = df_Trn.values # make np arrays\n",
    "arrayTst = df_Tst.values \n",
    "\n",
    "trainData = arrayTrn[:,1:31] #values\n",
    "trainData = trainData.astype('float')\n",
    "\n",
    "trainAnswers = arrayTrn[:,31] #answer\n",
    "trainAnswers = trainAnswers.astype('float')\n",
    "\n",
    "testData = arrayTst[:,1:31]\n",
    "testData = testData.astype('float')\n",
    "\n",
    "testAnswers = arrayTst[:,31]\n",
    "testAnswers = testAnswers.astype('float')\n",
    "\n",
    "testIndex = arrayTst[:,0]\n"
   ]
  },
  {
   "cell_type": "code",
   "execution_count": null,
   "metadata": {
    "collapsed": true
   },
   "outputs": [],
   "source": [
    "cnt = 0\n",
    "for name, model, predictions in models:\n",
    "    model.fit(trainData, trainAnswers)\n",
    "    predictions = model.predict(testData)\n",
    "    \n",
    "    score = accuracy_score(testAnswers, predictions)\n",
    "    kfold = model_selection.KFold(n_splits=10, random_state=7)\n",
    "    cv_results = model.cross_val_score(model, X_train, Y_train, cv=kfold, scoring=scoring)\n",
    "    \n",
    "    models[cnt][2] = predictions #store predictions back into models list\n",
    "    models[cnt].append(score)\n",
    "    print(name, score, cv_results.mean(), cv_results.std())\n",
    "    cnt += 1"
   ]
  },
  {
   "cell_type": "code",
   "execution_count": null,
   "metadata": {
    "collapsed": true
   },
   "outputs": [],
   "source": [
    "writeOut = []\n",
    "for i in range(len(testDataLst)):\n",
    "    writeOut.append([testDataLst[i], \n",
    "                     testIndex[i], \n",
    "                     testAnswers[i], \n",
    "                     models[0][2][i], \n",
    "                     models[1][2][i], \n",
    "                     models[2][2][i], \n",
    "                     models[3][2][i], \n",
    "                     models[4][2][i], \n",
    "                     models[5][2][i], \n",
    "                     models[5][2][i] ])\n",
    "\n",
    "df2csv = pd.DataFrame(writeOut, columns=['testData','testIndex','testAnswers','LR_pred','LDA_pred','KNN_pred','CART_pred','NB_pred','SVM_pred','RFC_pred'])\n",
    "df2csv.to_csv('pred.csv', index=False)"
   ]
  },
  {
   "cell_type": "code",
   "execution_count": null,
   "metadata": {
    "collapsed": true
   },
   "outputs": [],
   "source": []
  }
 ],
 "metadata": {
  "kernelspec": {
   "display_name": "Python 3",
   "language": "python",
   "name": "python3"
  },
  "language_info": {
   "codemirror_mode": {
    "name": "ipython",
    "version": 3
   },
   "file_extension": ".py",
   "mimetype": "text/x-python",
   "name": "python",
   "nbconvert_exporter": "python",
   "pygments_lexer": "ipython3",
   "version": "3.6.1"
  }
 },
 "nbformat": 4,
 "nbformat_minor": 2
}
